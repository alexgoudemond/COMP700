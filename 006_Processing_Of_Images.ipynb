{
 "cells": [
  {
   "cell_type": "markdown",
   "metadata": {},
   "source": [
    "# Processing Of Images\n",
    "\n",
    "This notebook will process the data-set and save the images into a dedicated folder\n"
   ]
  },
  {
   "cell_type": "markdown",
   "metadata": {},
   "source": [
    "## Author: Alexander Goudemond, Student Number: 219030365"
   ]
  },
  {
   "cell_type": "markdown",
   "metadata": {},
   "source": [
    "# Imports"
   ]
  },
  {
   "cell_type": "code",
   "execution_count": 1,
   "metadata": {},
   "outputs": [],
   "source": [
    "from os import getcwd, walk, mkdir, stat, remove\n",
    "from os import sep # used later on, in a function, to print directory contents\n",
    "from os.path import exists, basename, join"
   ]
  },
  {
   "cell_type": "markdown",
   "metadata": {},
   "source": [
    "# Directories for the Processed of Data-Sets\n",
    "\n",
    "This section of the notebook will find a way to create directories for the images!"
   ]
  },
  {
   "cell_type": "markdown",
   "metadata": {},
   "source": [
    "The file order of the data-set is important as we have manually segmented and manually tracked pictures, which we do not plan on processing. We need to find a way to generate the 2 processed data-sets without altering this information"
   ]
  },
  {
   "cell_type": "markdown",
   "metadata": {},
   "source": [
    "An initial option to consider, is generating a list of all the file paths to our images..."
   ]
  },
  {
   "cell_type": "markdown",
   "metadata": {},
   "source": [
    "This is quite simple, thankfully:"
   ]
  },
  {
   "cell_type": "code",
   "execution_count": 2,
   "metadata": {},
   "outputs": [],
   "source": [
    "def get_directories(startPath):\n",
    "    location_array = []\n",
    "    acceptable_folders = [\"\\\\01\", \"\\\\02\", \"SEG\", \"MAN\"]\n",
    "\n",
    "    for root, dirs, files in walk(startPath):\n",
    "        # skip this folder\n",
    "        if (\"OriginalZipped\" in root):\n",
    "            continue\n",
    "\n",
    "        #\n",
    "        elif (root[ -3 : ] not in acceptable_folders):\n",
    "            continue\n",
    "\n",
    "        location_array.append(root)\n",
    "    \n",
    "    return location_array\n",
    "###"
   ]
  },
  {
   "cell_type": "code",
   "execution_count": 3,
   "metadata": {},
   "outputs": [],
   "source": [
    "current_directory = getcwd()\n",
    "desired_directory = \"..\\\\..\\\\Comp700_DataSets\""
   ]
  },
  {
   "cell_type": "code",
   "execution_count": 4,
   "metadata": {},
   "outputs": [],
   "source": [
    "path = (current_directory + \"\\\\\" + desired_directory)\n",
    "location_array = get_directories(path)"
   ]
  },
  {
   "cell_type": "code",
   "execution_count": 5,
   "metadata": {},
   "outputs": [
    {
     "name": "stdout",
     "output_type": "stream",
     "text": [
      "['c:\\\\Users\\\\G5\\\\Documents\\\\GitHub\\\\COMP700\\\\..\\\\..\\\\Comp700_DataSets\\\\Extracted\\\\BF-C2DL-HSC\\\\BF-C2DL-HSC\\\\01', 'c:\\\\Users\\\\G5\\\\Documents\\\\GitHub\\\\COMP700\\\\..\\\\..\\\\Comp700_DataSets\\\\Extracted\\\\BF-C2DL-HSC\\\\BF-C2DL-HSC\\\\01_GT\\\\SEG', 'c:\\\\Users\\\\G5\\\\Documents\\\\GitHub\\\\COMP700\\\\..\\\\..\\\\Comp700_DataSets\\\\Extracted\\\\BF-C2DL-HSC\\\\BF-C2DL-HSC\\\\01_ST\\\\SEG', 'c:\\\\Users\\\\G5\\\\Documents\\\\GitHub\\\\COMP700\\\\..\\\\..\\\\Comp700_DataSets\\\\Extracted\\\\BF-C2DL-HSC\\\\BF-C2DL-HSC\\\\02', 'c:\\\\Users\\\\G5\\\\Documents\\\\GitHub\\\\COMP700\\\\..\\\\..\\\\Comp700_DataSets\\\\Extracted\\\\BF-C2DL-HSC\\\\BF-C2DL-HSC\\\\02_GT\\\\SEG', 'c:\\\\Users\\\\G5\\\\Documents\\\\GitHub\\\\COMP700\\\\..\\\\..\\\\Comp700_DataSets\\\\Extracted\\\\BF-C2DL-HSC\\\\BF-C2DL-HSC\\\\02_ST\\\\SEG', 'c:\\\\Users\\\\G5\\\\Documents\\\\GitHub\\\\COMP700\\\\..\\\\..\\\\Comp700_DataSets\\\\Extracted\\\\BF-C2DL-HSC (1)\\\\BF-C2DL-HSC (1)\\\\01', 'c:\\\\Users\\\\G5\\\\Documents\\\\GitHub\\\\COMP700\\\\..\\\\..\\\\Comp700_DataSets\\\\Extracted\\\\BF-C2DL-HSC (1)\\\\BF-C2DL-HSC (1)\\\\02', 'c:\\\\Users\\\\G5\\\\Documents\\\\GitHub\\\\COMP700\\\\..\\\\..\\\\Comp700_DataSets\\\\Extracted\\\\BF-C2DL-MuSC\\\\BF-C2DL-MuSC\\\\01', 'c:\\\\Users\\\\G5\\\\Documents\\\\GitHub\\\\COMP700\\\\..\\\\..\\\\Comp700_DataSets\\\\Extracted\\\\BF-C2DL-MuSC\\\\BF-C2DL-MuSC\\\\01_GT\\\\SEG']\n",
      "Number of folders: 76\n"
     ]
    }
   ],
   "source": [
    "# first 10\n",
    "print( location_array[0:10] ) \n",
    "print(\"Number of folders:\", len( location_array ) ) "
   ]
  },
  {
   "cell_type": "markdown",
   "metadata": {},
   "source": [
    "Great! We can use that variable to generate the locations for our processed images! We just need to replace the keyword \"Comp700_DataSets\" with our desired folder name, and everything else will follow nicely!"
   ]
  },
  {
   "cell_type": "markdown",
   "metadata": {},
   "source": [
    "We can further improve the folder readability though, by only keeping the Comp700_DataSets etc. :"
   ]
  },
  {
   "cell_type": "code",
   "execution_count": 6,
   "metadata": {},
   "outputs": [],
   "source": [
    "def cut_string_array(position, array):\n",
    "    new_array = []\n",
    "\n",
    "    for item in array:\n",
    "        new_array.append( item[position : ])\n",
    "    \n",
    "    return new_array\n",
    "###"
   ]
  },
  {
   "cell_type": "code",
   "execution_count": 7,
   "metadata": {},
   "outputs": [],
   "source": [
    "position = len(current_directory + \"\\\\..\\\\..\\\\\")\n",
    "# print(position)\n",
    "\n",
    "reduced_location_array = cut_string_array(position, location_array)\n"
   ]
  },
  {
   "cell_type": "code",
   "execution_count": 8,
   "metadata": {},
   "outputs": [
    {
     "name": "stdout",
     "output_type": "stream",
     "text": [
      "['Comp700_DataSets\\\\Extracted\\\\BF-C2DL-HSC\\\\BF-C2DL-HSC\\\\01', 'Comp700_DataSets\\\\Extracted\\\\BF-C2DL-HSC\\\\BF-C2DL-HSC\\\\01_GT\\\\SEG', 'Comp700_DataSets\\\\Extracted\\\\BF-C2DL-HSC\\\\BF-C2DL-HSC\\\\01_ST\\\\SEG', 'Comp700_DataSets\\\\Extracted\\\\BF-C2DL-HSC\\\\BF-C2DL-HSC\\\\02', 'Comp700_DataSets\\\\Extracted\\\\BF-C2DL-HSC\\\\BF-C2DL-HSC\\\\02_GT\\\\SEG', 'Comp700_DataSets\\\\Extracted\\\\BF-C2DL-HSC\\\\BF-C2DL-HSC\\\\02_ST\\\\SEG', 'Comp700_DataSets\\\\Extracted\\\\BF-C2DL-HSC (1)\\\\BF-C2DL-HSC (1)\\\\01', 'Comp700_DataSets\\\\Extracted\\\\BF-C2DL-HSC (1)\\\\BF-C2DL-HSC (1)\\\\02', 'Comp700_DataSets\\\\Extracted\\\\BF-C2DL-MuSC\\\\BF-C2DL-MuSC\\\\01', 'Comp700_DataSets\\\\Extracted\\\\BF-C2DL-MuSC\\\\BF-C2DL-MuSC\\\\01_GT\\\\SEG']\n",
      "Number of folders: 76\n"
     ]
    }
   ],
   "source": [
    "# first 10\n",
    "print(reduced_location_array[ 0 : 10])\n",
    "print(\"Number of folders:\", len( reduced_location_array ) ) "
   ]
  },
  {
   "cell_type": "markdown",
   "metadata": {},
   "source": [
    "We are now in a position where we can define a function to replace a keyword in our array, then the rest should be straightforward!"
   ]
  },
  {
   "cell_type": "code",
   "execution_count": 9,
   "metadata": {},
   "outputs": [],
   "source": [
    "def replace_part_of_array(key_word, new_word, array):\n",
    "    new_array = []\n",
    "    temp = \"\"\n",
    "\n",
    "    for item in array:\n",
    "        temp = item.replace(key_word, new_word)\n",
    "        new_array.append(temp)\n",
    "    \n",
    "    return new_array\n",
    "###"
   ]
  },
  {
   "cell_type": "code",
   "execution_count": 10,
   "metadata": {},
   "outputs": [],
   "source": [
    "desired_locations_1 = replace_part_of_array(\"Comp700_DataSets\\\\Extracted\", \"Comp700_Processed_DataSets_1\", reduced_location_array)\n",
    "\n",
    "desired_locations_2 = replace_part_of_array(\"Comp700_DataSets\\\\Extracted\", \"Comp700_Processed_DataSets_2\", reduced_location_array)"
   ]
  },
  {
   "cell_type": "code",
   "execution_count": 11,
   "metadata": {},
   "outputs": [
    {
     "name": "stdout",
     "output_type": "stream",
     "text": [
      "['Comp700_Processed_DataSets_1\\\\BF-C2DL-HSC\\\\BF-C2DL-HSC\\\\01', 'Comp700_Processed_DataSets_1\\\\BF-C2DL-HSC\\\\BF-C2DL-HSC\\\\01_GT\\\\SEG', 'Comp700_Processed_DataSets_1\\\\BF-C2DL-HSC\\\\BF-C2DL-HSC\\\\01_ST\\\\SEG', 'Comp700_Processed_DataSets_1\\\\BF-C2DL-HSC\\\\BF-C2DL-HSC\\\\02', 'Comp700_Processed_DataSets_1\\\\BF-C2DL-HSC\\\\BF-C2DL-HSC\\\\02_GT\\\\SEG', 'Comp700_Processed_DataSets_1\\\\BF-C2DL-HSC\\\\BF-C2DL-HSC\\\\02_ST\\\\SEG', 'Comp700_Processed_DataSets_1\\\\BF-C2DL-HSC (1)\\\\BF-C2DL-HSC (1)\\\\01', 'Comp700_Processed_DataSets_1\\\\BF-C2DL-HSC (1)\\\\BF-C2DL-HSC (1)\\\\02', 'Comp700_Processed_DataSets_1\\\\BF-C2DL-MuSC\\\\BF-C2DL-MuSC\\\\01', 'Comp700_Processed_DataSets_1\\\\BF-C2DL-MuSC\\\\BF-C2DL-MuSC\\\\01_GT\\\\SEG']\n",
      "Number of folders: 76\n"
     ]
    }
   ],
   "source": [
    "print( desired_locations_1[0:10] )\n",
    "print(\"Number of folders:\", len( desired_locations_1 ) ) "
   ]
  },
  {
   "cell_type": "code",
   "execution_count": 12,
   "metadata": {},
   "outputs": [
    {
     "name": "stdout",
     "output_type": "stream",
     "text": [
      "['Comp700_Processed_DataSets_2\\\\BF-C2DL-HSC\\\\BF-C2DL-HSC\\\\01', 'Comp700_Processed_DataSets_2\\\\BF-C2DL-HSC\\\\BF-C2DL-HSC\\\\01_GT\\\\SEG', 'Comp700_Processed_DataSets_2\\\\BF-C2DL-HSC\\\\BF-C2DL-HSC\\\\01_ST\\\\SEG', 'Comp700_Processed_DataSets_2\\\\BF-C2DL-HSC\\\\BF-C2DL-HSC\\\\02', 'Comp700_Processed_DataSets_2\\\\BF-C2DL-HSC\\\\BF-C2DL-HSC\\\\02_GT\\\\SEG', 'Comp700_Processed_DataSets_2\\\\BF-C2DL-HSC\\\\BF-C2DL-HSC\\\\02_ST\\\\SEG', 'Comp700_Processed_DataSets_2\\\\BF-C2DL-HSC (1)\\\\BF-C2DL-HSC (1)\\\\01', 'Comp700_Processed_DataSets_2\\\\BF-C2DL-HSC (1)\\\\BF-C2DL-HSC (1)\\\\02', 'Comp700_Processed_DataSets_2\\\\BF-C2DL-MuSC\\\\BF-C2DL-MuSC\\\\01', 'Comp700_Processed_DataSets_2\\\\BF-C2DL-MuSC\\\\BF-C2DL-MuSC\\\\01_GT\\\\SEG']\n",
      "Number of folders: 76\n"
     ]
    }
   ],
   "source": [
    "print( desired_locations_2[0:10] )\n",
    "print(\"Number of folders:\", len( desired_locations_2 ) ) "
   ]
  },
  {
   "cell_type": "markdown",
   "metadata": {},
   "source": [
    "Okay! We now have 2 variables containing the folder locations! We can now define some functions to validate all directories exist"
   ]
  },
  {
   "cell_type": "code",
   "execution_count": 13,
   "metadata": {},
   "outputs": [],
   "source": [
    "# create directory for work we create\n",
    "def tryMakeDirectory(current_directory, destination_directory):\n",
    "    try:\n",
    "        # join comes from os.path\n",
    "        mkdir( join(current_directory, destination_directory) )\n",
    "    except FileExistsError:\n",
    "        # print(\"Folder already exists!\")\n",
    "        pass\n",
    "    except:\n",
    "        print(\"Unknown Error Encountered...\")\n",
    "###\n",
    "\n",
    "def createBulkDirectories(current_directory, array):\n",
    "    sub_folders = []\n",
    "    path = \"..\\\\..\\\\\"\n",
    "\n",
    "    for item in array:\n",
    "        sub_folders = item.split(\"\\\\\")\n",
    "        # print(sub_folders)\n",
    "\n",
    "        for folder in sub_folders:\n",
    "            path += folder\n",
    "            tryMakeDirectory(current_directory, path)\n",
    "            path += \"\\\\\"\n",
    "        \n",
    "        # reset\n",
    "        path = \"..\\\\..\\\\\"\n",
    "\n",
    "    print(\"Done!\")\n",
    "###"
   ]
  },
  {
   "cell_type": "code",
   "execution_count": 14,
   "metadata": {},
   "outputs": [
    {
     "name": "stdout",
     "output_type": "stream",
     "text": [
      "Done!\n"
     ]
    }
   ],
   "source": [
    "createBulkDirectories(current_directory, desired_locations_1)"
   ]
  },
  {
   "cell_type": "code",
   "execution_count": 15,
   "metadata": {},
   "outputs": [
    {
     "name": "stdout",
     "output_type": "stream",
     "text": [
      "Done!\n"
     ]
    }
   ],
   "source": [
    "createBulkDirectories(current_directory, desired_locations_2)"
   ]
  }
 ],
 "metadata": {
  "kernelspec": {
   "display_name": "Python 3.10.4 ('tracking_cells')",
   "language": "python",
   "name": "python3"
  },
  "language_info": {
   "codemirror_mode": {
    "name": "ipython",
    "version": 3
   },
   "file_extension": ".py",
   "mimetype": "text/x-python",
   "name": "python",
   "nbconvert_exporter": "python",
   "pygments_lexer": "ipython3",
   "version": "3.10.4"
  },
  "orig_nbformat": 4,
  "vscode": {
   "interpreter": {
    "hash": "5172ef57c372de0319e4db714a6087489ed069afeb66a66d936cee1d14e4331d"
   }
  }
 },
 "nbformat": 4,
 "nbformat_minor": 2
}
