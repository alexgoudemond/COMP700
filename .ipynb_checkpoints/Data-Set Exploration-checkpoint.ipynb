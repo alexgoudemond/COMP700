{
 "cells": [
  {
   "cell_type": "markdown",
   "id": "49a3d2bf",
   "metadata": {},
   "source": [
    "## Author: Alexander Goudemond\n",
    "## Student Number: 219030365"
   ]
  },
  {
   "cell_type": "markdown",
   "id": "80f2a6b3",
   "metadata": {},
   "source": [
    "This Jupyter Notebook aims at exploring the data-sets for the project, and finding ways to represent the data in an easy way"
   ]
  },
  {
   "cell_type": "markdown",
   "id": "71eb8a80",
   "metadata": {},
   "source": [
    "Let us start with some imports:"
   ]
  },
  {
   "cell_type": "code",
   "execution_count": 2,
   "id": "b1a2ef0f",
   "metadata": {},
   "outputs": [],
   "source": [
    "from os import getcwd, walk, sep\n",
    "from os.path import exists, basename"
   ]
  },
  {
   "cell_type": "code",
   "execution_count": 3,
   "id": "ef620626",
   "metadata": {},
   "outputs": [
    {
     "name": "stdout",
     "output_type": "stream",
     "text": [
      "C:\\Users\\G5\\UKZN\\COMP700\n"
     ]
    }
   ],
   "source": [
    "print(getcwd())"
   ]
  },
  {
   "cell_type": "markdown",
   "id": "48ecf71c",
   "metadata": {},
   "source": [
    "The file path used by author should be: \"C:\\Users\\G5\\UKZN\\COMP700\""
   ]
  },
  {
   "cell_type": "code",
   "execution_count": 4,
   "id": "1155410b",
   "metadata": {},
   "outputs": [
    {
     "name": "stdout",
     "output_type": "stream",
     "text": [
      "True\n"
     ]
    }
   ],
   "source": [
    "desired_directory = \"Data-Sets\"\n",
    "current_directory = getcwd()\n",
    "\n",
    "print( exists(current_directory + \"/\" + desired_directory) )"
   ]
  },
  {
   "cell_type": "markdown",
   "id": "af9c5729",
   "metadata": {},
   "source": [
    "The output should be true as the file path we are interested in is:\n",
    "\n",
    "```\n",
    "COMP700\n",
    "|_______Data-Sets\n",
    "```"
   ]
  },
  {
   "cell_type": "markdown",
   "id": "7537142e",
   "metadata": {},
   "source": [
    "There are many files inside this folder, so let us get the first 2 'branches' to show the user"
   ]
  },
  {
   "cell_type": "code",
   "execution_count": 5,
   "id": "520ba048",
   "metadata": {},
   "outputs": [
    {
     "name": "stdout",
     "output_type": "stream",
     "text": [
      "['Extracted', 'OriginalZipped']\n",
      "Length is: 2 \n",
      "\n",
      "['BF-C2DL-HSC', 'BF-C2DL-HSC (1)', 'BF-C2DL-MuSC', 'BF-C2DL-MuSC(1)', 'DIC-C2DH-HeLa', 'DIC-C2DH-HeLa(1)', 'Fluo-C2DL-Huh7', 'Fluo-C2DL-Huh7(1)', 'Fluo-C2DL-MSC', 'Fluo-C2DL-MSC(1)', 'Fluo-N2DH-GOWT1', 'Fluo-N2DH-GOWT1(1)', 'Fluo-N2DH-SIM+', 'Fluo-N2DH-SIM+(1)', 'Fluo-N2DL-HeLa', 'Fluo-N2DL-HeLa(1)', 'PhC-C2DH-U373', 'PhC-C2DH-U373(1)', 'PhC-C2DL-PSC', 'PhC-C2DL-PSC(1)']\n",
      "Length is: 20 \n",
      "\n"
     ]
    }
   ],
   "source": [
    "path = walk(current_directory + \"/\" + desired_directory)\n",
    "\n",
    "count = 0\n",
    "for root, dirs, files in path:\n",
    "    print(dirs)\n",
    "    print(\"Length is:\", len(dirs), \"\\n\")\n",
    "    if (count == 1):\n",
    "        break\n",
    "        \n",
    "    count += 1"
   ]
  },
  {
   "cell_type": "markdown",
   "id": "6a210c38",
   "metadata": {},
   "source": [
    "I.e. :\n",
    "\n",
    "```\n",
    "COMP700\n",
    "|_______Data-Sets\n",
    "        |_______Extracted\n",
    "                |_______BF-C2DL-HSC\n",
    "                |_______BF-C2DL-HSC (1)\n",
    "                |_______ ...\n",
    "                \n",
    "        |_______OriginalZipped\n",
    "                |_______BF-C2DL-HSC.zip\n",
    "                |_______BF-C2DL-HSC (1).zip\n",
    "                |_______ ...\n",
    "```"
   ]
  },
  {
   "cell_type": "markdown",
   "id": "08d5809d",
   "metadata": {},
   "source": [
    "The walk() function does not show zipped files, but that is what is contained in the directory called _OriginalZipped_\n",
    "\n",
    "A detailed breakdown of all directories can be shown with following function, adapted from stack overflow:"
   ]
  },
  {
   "cell_type": "code",
   "execution_count": 6,
   "id": "272ecdf8",
   "metadata": {},
   "outputs": [
    {
     "name": "stdout",
     "output_type": "stream",
     "text": [
      "Data-Sets/\n",
      "    Extracted/\n",
      "        BF-C2DL-HSC/\n",
      "            BF-C2DL-HSC/\n",
      "                01/\n",
      "                    ...\n",
      "                01_GT/\n",
      "                    SEG/\n",
      "                        ...\n",
      "                    TRA/\n",
      "                        man_track.txt\n",
      "                        ...\n",
      "                01_ST/\n",
      "                    SEG/\n",
      "                        ...\n",
      "                02/\n",
      "                    ...\n",
      "                02_GT/\n",
      "                    SEG/\n",
      "                        ...\n",
      "                    TRA/\n",
      "                        man_track.txt\n",
      "                        ...\n",
      "                02_ST/\n",
      "                    SEG/\n",
      "                        ...\n",
      "        BF-C2DL-HSC (1)/\n",
      "            BF-C2DL-HSC/\n",
      "                01/\n",
      "                    ...\n",
      "                02/\n",
      "                    ...\n",
      "        BF-C2DL-MuSC/\n",
      "            BF-C2DL-MuSC/\n",
      "                01/\n",
      "                    ...\n",
      "                01_GT/\n",
      "                    SEG/\n",
      "                        ...\n",
      "                    TRA/\n",
      "                        man_track.txt\n",
      "                        ...\n",
      "                01_ST/\n",
      "                    SEG/\n",
      "                        ...\n",
      "                02/\n",
      "                    ...\n",
      "                02_GT/\n",
      "                    SEG/\n",
      "                        ...\n",
      "                    TRA/\n",
      "                        man_track.txt\n",
      "                        ...\n",
      "                02_ST/\n",
      "                    SEG/\n",
      "                        ...\n",
      "        BF-C2DL-MuSC(1)/\n",
      "            BF-C2DL-MuSC/\n",
      "                01/\n",
      "                    ...\n",
      "                02/\n",
      "                    ...\n",
      "        DIC-C2DH-HeLa/\n",
      "            DIC-C2DH-HeLa/\n",
      "                01/\n",
      "                    ...\n",
      "                01_GT/\n",
      "                    SEG/\n",
      "                        ...\n",
      "                    TRA/\n",
      "                        man_track.txt\n",
      "                        ...\n",
      "                01_ST/\n",
      "                    SEG/\n",
      "                        ...\n",
      "                02/\n",
      "                    ...\n",
      "                02_GT/\n",
      "                    SEG/\n",
      "                        ...\n",
      "                    TRA/\n",
      "                        man_track.txt\n",
      "                        ...\n",
      "                02_ST/\n",
      "                    SEG/\n",
      "                        ...\n",
      "        DIC-C2DH-HeLa(1)/\n",
      "            DIC-C2DH-HeLa/\n",
      "                01/\n",
      "                    ...\n",
      "                02/\n",
      "                    ...\n",
      "        Fluo-C2DL-Huh7/\n",
      "            Fluo-C2DL-Huh7/\n",
      "                01/\n",
      "                    ...\n",
      "                01_GT/\n",
      "                    SEG/\n",
      "                        ...\n",
      "                    TRA/\n",
      "                        man_track.txt\n",
      "                        ...\n",
      "                02/\n",
      "                    ...\n",
      "                02_GT/\n",
      "                    SEG/\n",
      "                        ...\n",
      "                    TRA/\n",
      "                        man_track.txt\n",
      "                        ...\n",
      "        Fluo-C2DL-Huh7(1)/\n",
      "            Fluo-C2DL-Huh7/\n",
      "                01/\n",
      "                    ...\n",
      "                02/\n",
      "                    ...\n",
      "        Fluo-C2DL-MSC/\n",
      "            Fluo-C2DL-MSC/\n",
      "                01/\n",
      "                    ...\n",
      "                01_GT/\n",
      "                    SEG/\n",
      "                        ...\n",
      "                    TRA/\n",
      "                        man_track.txt\n",
      "                        ...\n",
      "                01_ST/\n",
      "                    SEG/\n",
      "                        ...\n",
      "                02/\n",
      "                    ...\n",
      "                02_GT/\n",
      "                    SEG/\n",
      "                        ...\n",
      "                    TRA/\n",
      "                        man_track.txt\n",
      "                        ...\n",
      "                02_ST/\n",
      "                    SEG/\n",
      "                        ...\n",
      "        Fluo-C2DL-MSC(1)/\n",
      "            Fluo-C2DL-MSC/\n",
      "                01/\n",
      "                    ...\n",
      "                02/\n",
      "                    ...\n",
      "        Fluo-N2DH-GOWT1/\n",
      "            Fluo-N2DH-GOWT1/\n",
      "                01/\n",
      "                    ...\n",
      "                01_GT/\n",
      "                    SEG/\n",
      "                        ...\n",
      "                    TRA/\n",
      "                        man_track.txt\n",
      "                        ...\n",
      "                01_ST/\n",
      "                    SEG/\n",
      "                        ...\n",
      "                02/\n",
      "                    ...\n",
      "                02_GT/\n",
      "                    SEG/\n",
      "                        ...\n",
      "                    TRA/\n",
      "                        man_track.txt\n",
      "                        ...\n",
      "                02_ST/\n",
      "                    SEG/\n",
      "                        ...\n",
      "        Fluo-N2DH-GOWT1(1)/\n",
      "            Fluo-N2DH-GOWT1/\n",
      "                01/\n",
      "                    ...\n",
      "                02/\n",
      "                    ...\n",
      "        Fluo-N2DH-SIM+/\n",
      "            Fluo-N2DH-SIM+/\n",
      "                01/\n",
      "                    ...\n",
      "                01_GT/\n",
      "                    SEG/\n",
      "                        ...\n",
      "                    TRA/\n",
      "                        man_track.txt\n",
      "                        ...\n",
      "                02/\n",
      "                    ...\n",
      "                02_GT/\n",
      "                    SEG/\n",
      "                        ...\n",
      "                    TRA/\n",
      "                        man_track.txt\n",
      "                        ...\n",
      "        Fluo-N2DH-SIM+(1)/\n",
      "            Fluo-N2DH-SIM+/\n",
      "                01/\n",
      "                    ...\n",
      "                02/\n",
      "                    ...\n",
      "        Fluo-N2DL-HeLa/\n",
      "            Fluo-N2DL-HeLa/\n",
      "                01/\n",
      "                    ...\n",
      "                01_GT/\n",
      "                    SEG/\n",
      "                        ...\n",
      "                    TRA/\n",
      "                        man_track.txt\n",
      "                        ...\n",
      "                01_ST/\n",
      "                    SEG/\n",
      "                        ...\n",
      "                02/\n",
      "                    ...\n",
      "                02_GT/\n",
      "                    SEG/\n",
      "                        ...\n",
      "                    TRA/\n",
      "                        man_track.txt\n",
      "                        ...\n",
      "                02_ST/\n",
      "                    SEG/\n",
      "                        ...\n",
      "        Fluo-N2DL-HeLa(1)/\n",
      "            Fluo-N2DL-HeLa/\n",
      "                01/\n",
      "                    ...\n",
      "                02/\n",
      "                    ...\n",
      "        PhC-C2DH-U373/\n",
      "            PhC-C2DH-U373/\n",
      "                01/\n",
      "                    ...\n",
      "                01_GT/\n",
      "                    SEG/\n",
      "                        ...\n",
      "                    TRA/\n",
      "                        man_track.txt\n",
      "                        ...\n",
      "                01_ST/\n",
      "                    SEG/\n",
      "                        ...\n",
      "                02/\n",
      "                    ...\n",
      "                02_GT/\n",
      "                    SEG/\n",
      "                        ...\n",
      "                    TRA/\n",
      "                        man_track.txt\n",
      "                        ...\n",
      "                02_ST/\n",
      "                    SEG/\n",
      "                        ...\n",
      "        PhC-C2DH-U373(1)/\n",
      "            PhC-C2DH-U373/\n",
      "                01/\n",
      "                    ...\n",
      "                02/\n",
      "                    ...\n",
      "        PhC-C2DL-PSC/\n",
      "            PhC-C2DL-PSC/\n",
      "                01/\n",
      "                    ...\n",
      "                01_GT/\n",
      "                    SEG/\n",
      "                        ...\n",
      "                    TRA/\n",
      "                        man_track.txt\n",
      "                        ...\n",
      "                01_ST/\n",
      "                    SEG/\n",
      "                        ...\n",
      "                02/\n",
      "                    ...\n",
      "                02_GT/\n",
      "                    SEG/\n",
      "                        ...\n",
      "                    TRA/\n",
      "                        man_track.txt\n",
      "                        ...\n",
      "                02_ST/\n",
      "                    SEG/\n",
      "                        ...\n",
      "        PhC-C2DL-PSC(1)/\n",
      "            PhC-C2DL-PSC/\n",
      "                01/\n",
      "                    ...\n",
      "                02/\n",
      "                    ...\n",
      "    OriginalZipped/\n",
      "        BF-C2DL-HSC (1).zip\n",
      "        BF-C2DL-HSC.zip\n",
      "        BF-C2DL-MuSC(1).zip\n",
      "        BF-C2DL-MuSC.zip\n",
      "        DIC-C2DH-HeLa(1).zip\n",
      "        DIC-C2DH-HeLa.zip\n",
      "        Fluo-C2DL-Huh7(1).zip\n",
      "        Fluo-C2DL-Huh7.zip\n",
      "        Fluo-C2DL-MSC(1).zip\n",
      "        Fluo-C2DL-MSC.zip\n",
      "        Fluo-N2DH-GOWT1(1).zip\n",
      "        Fluo-N2DH-GOWT1.zip\n",
      "        Fluo-N2DH-SIM+(1).zip\n",
      "        Fluo-N2DH-SIM+.zip\n",
      "        Fluo-N2DL-HeLa(1).zip\n",
      "        Fluo-N2DL-HeLa.zip\n",
      "        PhC-C2DH-U373(1).zip\n",
      "        PhC-C2DH-U373.zip\n",
      "        PhC-C2DL-PSC(1).zip\n",
      "        PhC-C2DL-PSC.zip\n"
     ]
    }
   ],
   "source": [
    "# Author: dhobbs on Mar 15, 2012 at 21:29, https://stackoverflow.com/questions/9727673/list-directory-tree-structure-in-python\n",
    "def list_files(startpath):\n",
    "    for root, dirs, files in walk(startpath):\n",
    "        level = root.replace(startpath, '').count(sep)\n",
    "        indent = ' ' * 4 * (level)\n",
    "        print('{}{}/'.format(indent, basename(root)))\n",
    "        subindent = ' ' * 4 * (level + 1)\n",
    "        for f in files:\n",
    "            # 3 lines of code added to improve readibility\n",
    "            if (\".tif\" in f):\n",
    "                print('{}{}'.format(subindent, \"...\"))\n",
    "                break\n",
    "            print('{}{}'.format(subindent, f))\n",
    "\n",
    "path = (current_directory + \"/\" + desired_directory)\n",
    "\n",
    "list_files(path)"
   ]
  },
  {
   "cell_type": "markdown",
   "id": "977d7327",
   "metadata": {},
   "source": [
    "The fullstops above indicate that images are contained in that location."
   ]
  },
  {
   "cell_type": "markdown",
   "id": "4d7a233a",
   "metadata": {},
   "source": [
    "In order to view every folder's collection of images, we need to travel individually into each folder and look at the images contained there."
   ]
  },
  {
   "cell_type": "markdown",
   "id": "16af2f88",
   "metadata": {},
   "source": [
    "Before we go any further, it is important to acknowledge the structure of the directories. \n",
    "\n",
    "There are 20 data-sets contained here. Every folder that has the suffix _(1)_ represents the CHALLENGE data-set, provided by the Cell Tracking Challenge.\n",
    "\n",
    "Inside the TRAINING data-sets, additional folders appear, either as shown on the left OR as shown on the right:\n",
    "\n",
    "```\n",
    "    01                                            01\n",
    "    01_GT                                         01_GT\n",
    "    01_ST                                         02\n",
    "    02                                            02_GT\n",
    "    02_GT                                         \n",
    "    02_ST                                         \n",
    "```\n",
    "\n",
    "If the folder contains the suffix \"\\_GT\" of \"\\_ST\", then the image contents have the naming convention \"man\\_segXXXX.tif\" or \"man\\_trackXXXX.tif\", otherwise the  images have the naming convention \"tXXXX.tif\", where XXXX represents the number of the image in that folder\n",
    "\n",
    "If we use Matplotlib to view a sample of each of the TIF images, we see the following:"
   ]
  },
  {
   "cell_type": "code",
   "execution_count": 7,
   "id": "7b05a95f",
   "metadata": {},
   "outputs": [],
   "source": [
    "import matplotlib.pyplot as plt\n",
    "import cv2"
   ]
  },
  {
   "cell_type": "code",
   "execution_count": 8,
   "id": "3825f88c",
   "metadata": {},
   "outputs": [
    {
     "name": "stdout",
     "output_type": "stream",
     "text": [
      "['man_seg0058.tif', 'man_track0058.tif', 't0058.tif']\n"
     ]
    },
    {
     "data": {
      "image/png": "[encoded data removed]",
      "text/plain": [
       "<Figure size 1008x576 with 3 Axes>"
      ]
     },
     "metadata": {
      "needs_background": "light"
     },
     "output_type": "display_data"
    }
   ],
   "source": [
    "sample_directory = \"SampleImages\"\n",
    "\n",
    "path = walk(current_directory + \"/\" + sample_directory)\n",
    "\n",
    "i = 1\n",
    "for root, dirs, files in path:\n",
    "    print(files)\n",
    "    fig = plt.figure(figsize=(14, 8))\n",
    "    \n",
    "    for item in files:\n",
    "        location = (current_directory + \"/\" + sample_directory + \"/\" + item)\n",
    "        img = plt.imread(location)\n",
    "        \n",
    "        fig.add_subplot(1, 3, i)\n",
    "        plt.title(item)\n",
    "        plt.imshow(img, cmap=\"gray\")\n",
    "        i += 1\n",
    "\n",
    "plt.tight_layout()\n",
    "plt.show()\n"
   ]
  },
  {
   "cell_type": "markdown",
   "id": "870ef509",
   "metadata": {},
   "source": [
    "However, look at what happens if we open the first of the sample images using Opencv:"
   ]
  },
  {
   "cell_type": "code",
   "execution_count": 9,
   "id": "b57e95c4",
   "metadata": {},
   "outputs": [
    {
     "name": "stdout",
     "output_type": "stream",
     "text": [
      "['man_seg0058.tif', 'man_track0058.tif', 't0058.tif']\n"
     ]
    },
    {
     "ename": "AttributeError",
     "evalue": "module 'cv2' has no attribute 'waitkey'",
     "output_type": "error",
     "traceback": [
      "\u001b[1;31m---------------------------------------------------------------------------\u001b[0m",
      "\u001b[1;31mAttributeError\u001b[0m                            Traceback (most recent call last)",
      "Input \u001b[1;32mIn [9]\u001b[0m, in \u001b[0;36m<cell line: 21>\u001b[1;34m()\u001b[0m\n\u001b[0;32m     18\u001b[0m \u001b[38;5;66;03m# plt.tight_layout()\u001b[39;00m\n\u001b[0;32m     19\u001b[0m \u001b[38;5;66;03m# plt.show()\u001b[39;00m\n\u001b[0;32m     20\u001b[0m cv2\u001b[38;5;241m.\u001b[39mimshow(item, img)\n\u001b[1;32m---> 21\u001b[0m \u001b[43mcv2\u001b[49m\u001b[38;5;241;43m.\u001b[39;49m\u001b[43mwaitkey\u001b[49m(\u001b[38;5;241m0\u001b[39m)\n",
      "\u001b[1;31mAttributeError\u001b[0m: module 'cv2' has no attribute 'waitkey'"
     ]
    }
   ],
   "source": [
    "path = walk(current_directory + \"/\" + sample_directory)\n",
    "\n",
    "i = 1\n",
    "for root, dirs, files in path:\n",
    "    print(files)\n",
    "#     fig = plt.figure(figsize=(14, 8))\n",
    "    \n",
    "    for item in files:\n",
    "        location = (current_directory + \"/\" + sample_directory + \"/\" + item)\n",
    "        img = cv2.imread(location)\n",
    "        \n",
    "#         fig.add_subplot(1, 3, i)\n",
    "#         plt.title(item)\n",
    "#         plt.imshow(img, cmap=\"gray\")\n",
    "#         i += 1\n",
    "        break\n",
    "\n",
    "# plt.tight_layout()\n",
    "# plt.show()\n",
    "cv2.imshow(item, img)\n",
    "cv2.waitKey(0)"
   ]
  }
 ],
 "metadata": {
  "kernelspec": {
   "display_name": "Python 3 (ipykernel)",
   "language": "python",
   "name": "python3"
  },
  "language_info": {
   "codemirror_mode": {
    "name": "ipython",
    "version": 3
   },
   "file_extension": ".py",
   "mimetype": "text/x-python",
   "name": "python",
   "nbconvert_exporter": "python",
   "pygments_lexer": "ipython3",
   "version": "3.10.4"
  }
 },
 "nbformat": 4,
 "nbformat_minor": 5
}
