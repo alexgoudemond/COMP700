{
 "cells": [
  {
   "cell_type": "markdown",
   "metadata": {},
   "source": [
    "# Data-Set Initial Pre-Processing\n",
    "\n",
    "This notebook takes a sample of each image and explores ways to process the images."
   ]
  },
  {
   "cell_type": "markdown",
   "metadata": {},
   "source": [
    "## Author: Alexander Goudemond, Student Number: 219030365"
   ]
  },
  {
   "cell_type": "markdown",
   "metadata": {},
   "source": [
    "# Test Images\n",
    "\n",
    "This section of the notebook looks at 10 images, 1 from each category of the data-set."
   ]
  },
  {
   "cell_type": "markdown",
   "metadata": {},
   "source": [
    "For understanding, here is a broad breakdown of the data-sets:\n",
    "\n",
    "| Data-Set Name   | Cell Description                    | Notes |\n",
    "|-----------------|-------------------------------------|-------|\n",
    "| BF-C2DL-HSC     | Mouse Stem Cells                    | Gray Background;  Circular Viewing Area inside frame ; Consistent Cell Shape   |\n",
    "| BF-C2DL-MuSC    | Mouse Stem Cells                    | Gray Background;  Circular Viewing Area inside frame ; Inconsistent Cell Shape |\n",
    "| DIC-C2DH-HeLa   | HeLa Cells                          | Gray Background;  Circular Viewing Area inside frame ; Inconsistent Cell Shape |\n",
    "| Fluo-C2DL-Huh7  | Derived Liver Cells                 | Gray Background;  Frame is Viewing Area              ; Consistent Cell Shape   |\n",
    "| Fluo-C2DL-MSC   | Rat Derived Bone-Marrow Stem Cells  | Black Background; Frame is Viewing Area              ; Inconsistent Cell Shape |\n",
    "| Fluo-N2DH-GOWT1 | Mouse Embryonic Stem Cells          | Black Background; Frame is Viewing Area              ; Consistent Cell Shape   |\n",
    "| Fluo-N2DH-SIM+  | (Simulated) Derived Blood Cells     | Black Background; Frame is Viewing Area              ; Consistent Cell Shape   |\n",
    "| Fluo-N2DL-HeLa  | HeLa Cells                          | Gray Background;  Frame is Viewing Area              ; Consistent Cell Shape   |\n",
    "| PhC-C2DH-U373   | Brain Tumour Cells                  | Gray Background;  Frame is Viewing Area              ; Inconsistent Cell Shape |\n",
    "| PhC-C2DL-PSC    | Pancreatic Stem Cells               | Gray Background;  Frame is Viewing Area              ; Consistent Cell Shape   |\n"
   ]
  },
  {
   "cell_type": "markdown",
   "metadata": {},
   "source": [
    "For understanding, here is a feature breakdown of the data-sets:\n",
    "\n",
    "| Data-Set Name   | Cell Description                    | Notes |\n",
    "|-----------------|-------------------------------------|-------|\n",
    "| BF-C2DL-HSC     | Mouse Stem Cells                    | Small Cells  ; No staining |\n",
    "| BF-C2DL-MuSC    | Mouse Stem Cells                    | Small Cells  ; No staining      ; Cell changes form often |\n",
    "| DIC-C2DH-HeLa   | HeLa Cells                          | Large Cells  ; No staining      ; Clustered together ; Poor visibility |\n",
    "| Fluo-C2DL-Huh7  | Derived Liver Cells                 | Medium Cells ; Staining         ; |\n",
    "| Fluo-C2DL-MSC   | Rat Derived Bone-Marrow Stem Cells  | Large Cells  ; No staining      ; Camera Shake |\n",
    "| Fluo-N2DH-GOWT1 | Mouse Embryonic Stem Cells          | Medium Cells ; Partial staining ;  |\n",
    "| Fluo-N2DH-SIM+  | (Simulated) Derived Blood Cells     | Medium Cells ; Partial staining ; Inconsistent lighting |\n",
    "| Fluo-N2DL-HeLa  | HeLa Cells                          | Medium Cells ; No staining      ; Tightly Packed ; Poor visibility  |\n",
    "| PhC-C2DH-U373   | Brain Tumour Cells                  | Medium Cells ; Partial staining ; Many particles |\n",
    "| PhC-C2DL-PSC    | Pancreatic Stem Cells               | Small Cells  ; No staining      ; Tightly Packed |\n",
    " "
   ]
  }
 ],
 "metadata": {
  "language_info": {
   "name": "python"
  },
  "orig_nbformat": 4
 },
 "nbformat": 4,
 "nbformat_minor": 2
}
