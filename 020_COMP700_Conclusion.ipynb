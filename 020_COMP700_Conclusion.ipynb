{
 "cells": [
  {
   "cell_type": "markdown",
   "metadata": {},
   "source": [
    "# COMP700 Conclusion"
   ]
  },
  {
   "cell_type": "markdown",
   "metadata": {},
   "source": [
    "## Author: Alexander Goudemond, Student Number: 219030365"
   ]
  },
  {
   "cell_type": "markdown",
   "metadata": {},
   "source": [
    "In this notebook, the author will summarise the work done so far, as well as display some valuable insights to the reader. The hope is that this assists the reader with understanding how the project progressed, as well as assist the marker by condensing all the knowledge into 1 place, for ease of reference"
   ]
  },
  {
   "cell_type": "markdown",
   "metadata": {},
   "source": [
    "This notebook has several sections. "
   ]
  },
  {
   "cell_type": "markdown",
   "metadata": {},
   "source": [
    "# Project journey"
   ]
  },
  {
   "cell_type": "markdown",
   "metadata": {},
   "source": [
    "This project started with the intention to conduct experiments into cell tracking on 10 datasets, provided by the Cell Tracking Challenge (CTC). However, the author ran into so many challenges, that they were not able to explore cell tracking, in the end.\n",
    "\n",
    "Instead, the author focussed on the different techniques one could conduct to prepare the 10 datasets for cell tracking, by investigating both Traditional Segmentation techniques,  and Neural Network Segmentation techniques\n",
    "\n",
    "At the close of the project, the author had enough information to condense and summarise the problems, methods and insights for this goal.\n",
    "\n",
    "This notebook hopes to explain in greater detail what the different experiments conducted yielded, and how the knowledge assisted the project."
   ]
  },
  {
   "cell_type": "markdown",
   "metadata": {},
   "source": [
    "# Previous Notebook Summary"
   ]
  },
  {
   "cell_type": "markdown",
   "metadata": {},
   "source": [
    "This project generated many Jupyter Notebooks, in order to easily work through the 10 datasets. The notebooks saw many revisions, and in the end, 20 presentable notebooks were formulated and used in this project.\n",
    "\n",
    "A table summarising this information is shown here:"
   ]
  },
  {
   "cell_type": "markdown",
   "metadata": {},
   "source": [
    "|Notebook Number     | Programming Environment | Notebook Size (MB)  | Notebook Summary |\n",
    "|--------------------|-------------------------|---------------------|------------------|\n",
    "|001                 | VS Code                 | 0.004               |                  |\n",
    "|002                 | VS Code                 | 5.94                |                  |\n",
    "|003                 | VS Code                 | 6.67                |                  |\n",
    "|004                 | VS Code                 | 19                  |                  |\n",
    "|005                 | VS Code                 | 5.59                |                  |\n",
    "|006                 | VS Code                 | 1.13                |                  |\n",
    "|007                 | VS Code                 | 16.9                |                  |\n",
    "|008                 | VS Code                 | 12                  |                  |\n",
    "|009                 | VS Code                 | 0.0666              |                  |\n",
    "|010                 | VS Code                 | 1.11                |                  |\n",
    "|011                 | Google Colab            | 5.1                 |                  |\n",
    "|012                 | Google Colab            | 17.9                |                  |\n",
    "|013                 | Google Colab            | 27.6                |                  |\n",
    "|014                 | VS Code                 | 0.0111              |                  |\n",
    "|015                 | Google Colab            | 0.348               |                  |\n",
    "|016                 | Google Colab            | 3.3                 |                  |\n",
    "|017                 | Google Colab            | 8                   |                  |\n",
    "|018                 | Google Colab            | 10.8                |                  |\n",
    "|019                 | Google Colab            | 5.9                 |                  |\n",
    "|020                 | VS Code                 |                     |                  |\n",
    "|                    | TOTAL (MB)              | 139.37              |                  |"
   ]
  },
  {
   "cell_type": "markdown",
   "metadata": {},
   "source": [
    "# UNet Implementation and Methodology"
   ]
  },
  {
   "cell_type": "markdown",
   "metadata": {},
   "source": []
  }
 ],
 "metadata": {
  "kernelspec": {
   "display_name": "Python 3.7.13 ('python_gpu')",
   "language": "python",
   "name": "python3"
  },
  "language_info": {
   "name": "python",
   "version": "3.7.13"
  },
  "orig_nbformat": 4,
  "vscode": {
   "interpreter": {
    "hash": "b82f63144f2c45b2313238722d81a7c4b83bac7fe75f18d324f42bf6a6cba197"
   }
  }
 },
 "nbformat": 4,
 "nbformat_minor": 2
}
