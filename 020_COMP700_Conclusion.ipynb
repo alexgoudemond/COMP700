{
 "cells": [
  {
   "cell_type": "markdown",
   "metadata": {},
   "source": [
    "# COMP700 Conclusion"
   ]
  },
  {
   "cell_type": "markdown",
   "metadata": {},
   "source": [
    "## Author: Alexander Goudemond, Student Number: 219030365"
   ]
  },
  {
   "cell_type": "markdown",
   "metadata": {},
   "source": [
    "In this notebook, the author will summarise the work done so far, as well as display some valuable insights to the reader. The hope is that this assists the reader with understanding how the project progressed, as well as assist the marker by condensing all the knowledge into 1 place, for ease of reference"
   ]
  },
  {
   "cell_type": "markdown",
   "metadata": {},
   "source": [
    "This notebook has several sections. "
   ]
  },
  {
   "cell_type": "markdown",
   "metadata": {},
   "source": [
    "# Project journey"
   ]
  },
  {
   "cell_type": "markdown",
   "metadata": {},
   "source": [
    "This project started with the intention to conduct experiments into cell tracking on 10 datasets, provided by the Cell Tracking Challenge (CTC). However, the author ran into so many challenges, that they were not able to explore cell tracking, in the end.\n",
    "\n",
    "Instead, the author focussed on the different techniques one could conduct to prepare the 10 datasets for cell tracking, by investigating both Traditional Segmentation techniques,  and Neural Network Segmentation techniques\n",
    "\n",
    "At the close of the project, the author had enough information to condense and summarise the problems, methods and insights for this goal.\n",
    "\n",
    "This notebook hopes to explain in greater detail what the different experiments conducted yielded, and how the knowledge assisted the project."
   ]
  },
  {
   "cell_type": "markdown",
   "metadata": {},
   "source": [
    "# Previous Notebook Summary"
   ]
  },
  {
   "cell_type": "markdown",
   "metadata": {},
   "source": [
    "This project generated many Jupyter Notebooks, in order to easily work through the 10 datasets. The notebooks saw many revisions, and in the end, 20 presentable notebooks were formulated and used in this project.\n",
    "\n",
    "A table summarising this information is shown here:"
   ]
  },
  {
   "cell_type": "markdown",
   "metadata": {},
   "source": [
    "|Notebook Number     | Programming Environment | Notebook Size (MB)  | Notebook Summary |\n",
    "|--------------------|-------------------------|---------------------|------------------|\n",
    "|001                 | VS Code                 | 0.004               | *Welcome and Setup* - Explains how to recreate environment to run all notebooks, and dependencies |\n",
    "|002                 | VS Code                 | 5.94                | *Dataset Exploration* - Investigates how to represent images together, colourmaps, and hidden information|\n",
    "|003                 | VS Code                 | 6.67                | *Dataset Colour Exploration* - colourmap comparison and side-by-side video comparison |\n",
    "|004                 | VS Code                 | 19                  | *Dataset Initial Pre-Processing* - preprocessing techniques |\n",
    "|005                 | VS Code                 | 5.59                | *Dataset Secondary Pre-Processing* - preprocessing techniques |\n",
    "|006                 | VS Code                 | 1.13                | *Processing Images* - bulk morphological processing |\n",
    "|007                 | VS Code                 | 16.9                | *Initial Segmentation* - traditional segmentation techniques |\n",
    "|008                 | VS Code                 | 12                  | *Secondary Segmentation* - traditional segmentation technique |\n",
    "|009                 | VS Code                 | 0.0666              | *Bulk Segmentation* - apply bulk thresholding with OpenCV and generate side-by-side video comparison |\n",
    "|010                 | VS Code                 | 1.11                | *Isolate Training Data* - this notebook organises images and masks for segmentation |\n",
    "|011                 | Google Colab            | 5.1                 | *Neural Network Benchmark Preparation* - prepares training data for raw dataset models, as a benchmark |\n",
    "|012                 | Google Colab            | 17.9                | *Neural Network Benchmarks* - trains 18 models on Raw datasets |\n",
    "|013                 | Google Colab            | 27.6                | *Neural Network Benchmark Reflection* - reflect on model success and compare information |\n",
    "|014                 | VS Code                 | 0.0111              | *Dataset Tertiary Pre-Processing* - reviews that processed datasets are best option for Neural Network Segmentation |\n",
    "|015                 | Google Colab            | 0.348               | *Neural Network Processed Preparation* - prepares training data for processed dataset models |\n",
    "|016                 | Google Colab            | 3.3                 | *Neural Network Processed Images* - trains 6 models on processed datasets |\n",
    "|017                 | Google Colab            | 8                   | *Neural Network Processed Reflection* - reflect on model success and compare information |\n",
    "|018                 | Google Colab            | 10.8                | *Neural Network Predictions altogether* - load and predict models side-by-side, as well as mix-and-match models and datasets |\n",
    "|019                 | Google Colab            | 5.9                 | *Neural Network Image Mean IoU Scores* - load models and datasets and conduct image Mean IoU Score |\n",
    "|020                 | VS Code                 |                     | *Conclusion* - condenses all prior work and insights into 1 notebook |\n",
    "|                    | **TOTAL (MB)**              | **139.37**              |                  |"
   ]
  },
  {
   "cell_type": "markdown",
   "metadata": {},
   "source": [
    "# UNet Implementation and Methodology"
   ]
  },
  {
   "cell_type": "markdown",
   "metadata": {},
   "source": []
  }
 ],
 "metadata": {
  "kernelspec": {
   "display_name": "Python 3.7.13 ('python_gpu')",
   "language": "python",
   "name": "python3"
  },
  "language_info": {
   "name": "python",
   "version": "3.7.13"
  },
  "orig_nbformat": 4,
  "vscode": {
   "interpreter": {
    "hash": "b82f63144f2c45b2313238722d81a7c4b83bac7fe75f18d324f42bf6a6cba197"
   }
  }
 },
 "nbformat": 4,
 "nbformat_minor": 2
}
