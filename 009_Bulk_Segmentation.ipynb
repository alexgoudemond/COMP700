{
 "cells": [
  {
   "cell_type": "markdown",
   "metadata": {},
   "source": [
    "# Secondary Segmentation\n",
    "\n",
    "This notebook will explore the next set of segmenation options"
   ]
  },
  {
   "cell_type": "markdown",
   "metadata": {},
   "source": [
    "## Author: Alexander Goudemond, Student Number: 219030365"
   ]
  },
  {
   "cell_type": "markdown",
   "metadata": {},
   "source": [
    "# Imports\n"
   ]
  },
  {
   "cell_type": "code",
   "execution_count": 1,
   "metadata": {},
   "outputs": [],
   "source": [
    "from os import getcwd, walk, mkdir, stat, remove\n",
    "from os import sep # used later on, in a function, to print directory contents\n",
    "from os.path import exists, basename, join\n",
    "\n",
    "from shutil import copyfile\n",
    "\n",
    "from PIL.Image import fromarray\n",
    "import cv2\n",
    "\n",
    "import matplotlib.pyplot as plt\n",
    "import numpy as np"
   ]
  },
  {
   "cell_type": "markdown",
   "metadata": {},
   "source": [
    "# Directories for the Processed of Data-Sets\n",
    "\n",
    "This section of the notebook will find a way to create directories for the images!"
   ]
  },
  {
   "cell_type": "markdown",
   "metadata": {},
   "source": [
    "The file order of the data-set is important as we have manually segmented and manually tracked pictures, which we do not plan on processing. We need to find a way to generate the 2 processed data-sets without altering this information"
   ]
  },
  {
   "cell_type": "markdown",
   "metadata": {},
   "source": [
    "An initial option to consider, is generating a list of all the file paths to our images..."
   ]
  },
  {
   "cell_type": "markdown",
   "metadata": {},
   "source": [
    "This is quite simple, thankfully:"
   ]
  },
  {
   "cell_type": "code",
   "execution_count": 2,
   "metadata": {},
   "outputs": [],
   "source": [
    "def get_directories(startPath):\n",
    "    location_array = []\n",
    "    acceptable_folders = [\"\\\\01\", \"\\\\02\", \"SEG\", \"TRA\"]\n",
    "\n",
    "    for root, dirs, files in walk(startPath):\n",
    "        # skip this folder\n",
    "        if (\"OriginalZipped\" in root):\n",
    "            continue\n",
    "\n",
    "        elif (root[ -3 : ] not in acceptable_folders):\n",
    "            continue\n",
    "\n",
    "        location_array.append(root)\n",
    "    \n",
    "    return location_array\n",
    "###"
   ]
  },
  {
   "cell_type": "code",
   "execution_count": 3,
   "metadata": {},
   "outputs": [],
   "source": [
    "current_directory = getcwd()\n",
    "desired_directory = \"..\\\\..\\\\Comp700_Processed_DataSets_1\""
   ]
  },
  {
   "cell_type": "code",
   "execution_count": 4,
   "metadata": {},
   "outputs": [],
   "source": [
    "path = (current_directory + \"\\\\\" + desired_directory)\n",
    "location_array = get_directories(path)"
   ]
  },
  {
   "cell_type": "code",
   "execution_count": 5,
   "metadata": {},
   "outputs": [
    {
     "name": "stdout",
     "output_type": "stream",
     "text": [
      "['c:\\\\Users\\\\G5\\\\Documents\\\\GitHub\\\\COMP700\\\\..\\\\..\\\\Comp700_Processed_DataSets_1\\\\BF-C2DL-HSC\\\\BF-C2DL-HSC\\\\01', 'c:\\\\Users\\\\G5\\\\Documents\\\\GitHub\\\\COMP700\\\\..\\\\..\\\\Comp700_Processed_DataSets_1\\\\BF-C2DL-HSC\\\\BF-C2DL-HSC\\\\01_GT\\\\SEG', 'c:\\\\Users\\\\G5\\\\Documents\\\\GitHub\\\\COMP700\\\\..\\\\..\\\\Comp700_Processed_DataSets_1\\\\BF-C2DL-HSC\\\\BF-C2DL-HSC\\\\01_GT\\\\TRA', 'c:\\\\Users\\\\G5\\\\Documents\\\\GitHub\\\\COMP700\\\\..\\\\..\\\\Comp700_Processed_DataSets_1\\\\BF-C2DL-HSC\\\\BF-C2DL-HSC\\\\01_ST\\\\SEG', 'c:\\\\Users\\\\G5\\\\Documents\\\\GitHub\\\\COMP700\\\\..\\\\..\\\\Comp700_Processed_DataSets_1\\\\BF-C2DL-HSC\\\\BF-C2DL-HSC\\\\02', 'c:\\\\Users\\\\G5\\\\Documents\\\\GitHub\\\\COMP700\\\\..\\\\..\\\\Comp700_Processed_DataSets_1\\\\BF-C2DL-HSC\\\\BF-C2DL-HSC\\\\02_GT\\\\SEG', 'c:\\\\Users\\\\G5\\\\Documents\\\\GitHub\\\\COMP700\\\\..\\\\..\\\\Comp700_Processed_DataSets_1\\\\BF-C2DL-HSC\\\\BF-C2DL-HSC\\\\02_GT\\\\TRA', 'c:\\\\Users\\\\G5\\\\Documents\\\\GitHub\\\\COMP700\\\\..\\\\..\\\\Comp700_Processed_DataSets_1\\\\BF-C2DL-HSC\\\\BF-C2DL-HSC\\\\02_ST\\\\SEG', 'c:\\\\Users\\\\G5\\\\Documents\\\\GitHub\\\\COMP700\\\\..\\\\..\\\\Comp700_Processed_DataSets_1\\\\BF-C2DL-HSC (1)\\\\BF-C2DL-HSC (1)\\\\01', 'c:\\\\Users\\\\G5\\\\Documents\\\\GitHub\\\\COMP700\\\\..\\\\..\\\\Comp700_Processed_DataSets_1\\\\BF-C2DL-HSC (1)\\\\BF-C2DL-HSC (1)\\\\02']\n",
      "Number of folders: 96\n"
     ]
    }
   ],
   "source": [
    "# first 10\n",
    "print( location_array[0:10] ) \n",
    "print(\"Number of folders:\", len( location_array ) ) "
   ]
  },
  {
   "cell_type": "markdown",
   "metadata": {},
   "source": [
    "Great! We can use that variable to generate the locations for our processed images! We just need to replace the keyword \"Comp700_DataSets\" with our desired folder name, and everything else will follow nicely!"
   ]
  },
  {
   "cell_type": "markdown",
   "metadata": {},
   "source": [
    "We can further improve the folder readability though, by only keeping the Comp700_DataSets etc. :"
   ]
  },
  {
   "cell_type": "code",
   "execution_count": 6,
   "metadata": {},
   "outputs": [],
   "source": [
    "def cut_string_array(position, array):\n",
    "    new_array = []\n",
    "\n",
    "    for item in array:\n",
    "        new_array.append( item[position : ])\n",
    "    \n",
    "    return new_array\n",
    "###"
   ]
  },
  {
   "cell_type": "code",
   "execution_count": 7,
   "metadata": {},
   "outputs": [],
   "source": [
    "position = len(current_directory + \"\\\\..\\\\..\\\\\")\n",
    "# print(position)\n",
    "\n",
    "reduced_location_array = cut_string_array(position, location_array)\n"
   ]
  },
  {
   "cell_type": "code",
   "execution_count": 8,
   "metadata": {},
   "outputs": [
    {
     "name": "stdout",
     "output_type": "stream",
     "text": [
      "['Comp700_Processed_DataSets_1\\\\BF-C2DL-HSC\\\\BF-C2DL-HSC\\\\01', 'Comp700_Processed_DataSets_1\\\\BF-C2DL-HSC\\\\BF-C2DL-HSC\\\\01_GT\\\\SEG', 'Comp700_Processed_DataSets_1\\\\BF-C2DL-HSC\\\\BF-C2DL-HSC\\\\01_GT\\\\TRA', 'Comp700_Processed_DataSets_1\\\\BF-C2DL-HSC\\\\BF-C2DL-HSC\\\\01_ST\\\\SEG', 'Comp700_Processed_DataSets_1\\\\BF-C2DL-HSC\\\\BF-C2DL-HSC\\\\02', 'Comp700_Processed_DataSets_1\\\\BF-C2DL-HSC\\\\BF-C2DL-HSC\\\\02_GT\\\\SEG', 'Comp700_Processed_DataSets_1\\\\BF-C2DL-HSC\\\\BF-C2DL-HSC\\\\02_GT\\\\TRA', 'Comp700_Processed_DataSets_1\\\\BF-C2DL-HSC\\\\BF-C2DL-HSC\\\\02_ST\\\\SEG', 'Comp700_Processed_DataSets_1\\\\BF-C2DL-HSC (1)\\\\BF-C2DL-HSC (1)\\\\01', 'Comp700_Processed_DataSets_1\\\\BF-C2DL-HSC (1)\\\\BF-C2DL-HSC (1)\\\\02']\n",
      "\n",
      "Number of folders: 96\n"
     ]
    }
   ],
   "source": [
    "# first 10\n",
    "print(reduced_location_array[ 0 : 10])\n",
    "print()\n",
    "print(\"Number of folders:\", len( reduced_location_array ) ) "
   ]
  },
  {
   "cell_type": "markdown",
   "metadata": {},
   "source": [
    "Let's modify the keyword now to our destination folder:"
   ]
  },
  {
   "cell_type": "code",
   "execution_count": 9,
   "metadata": {},
   "outputs": [],
   "source": [
    "def replace_part_of_array(key_word, new_word, array):\n",
    "    new_array = []\n",
    "    temp = \"\"\n",
    "\n",
    "    for item in array:\n",
    "        temp = item.replace(key_word, new_word)\n",
    "        new_array.append(temp)\n",
    "    \n",
    "    return new_array\n",
    "###"
   ]
  },
  {
   "cell_type": "code",
   "execution_count": 10,
   "metadata": {},
   "outputs": [],
   "source": [
    "desired_locations = replace_part_of_array(\"Comp700_Processed_DataSets_1\", \"Comp700_Segmented\", reduced_location_array)\n"
   ]
  },
  {
   "cell_type": "code",
   "execution_count": 11,
   "metadata": {},
   "outputs": [
    {
     "name": "stdout",
     "output_type": "stream",
     "text": [
      "['Comp700_Segmented\\\\BF-C2DL-HSC\\\\BF-C2DL-HSC\\\\01', 'Comp700_Segmented\\\\BF-C2DL-HSC\\\\BF-C2DL-HSC\\\\01_GT\\\\SEG', 'Comp700_Segmented\\\\BF-C2DL-HSC\\\\BF-C2DL-HSC\\\\01_GT\\\\TRA', 'Comp700_Segmented\\\\BF-C2DL-HSC\\\\BF-C2DL-HSC\\\\01_ST\\\\SEG', 'Comp700_Segmented\\\\BF-C2DL-HSC\\\\BF-C2DL-HSC\\\\02', 'Comp700_Segmented\\\\BF-C2DL-HSC\\\\BF-C2DL-HSC\\\\02_GT\\\\SEG', 'Comp700_Segmented\\\\BF-C2DL-HSC\\\\BF-C2DL-HSC\\\\02_GT\\\\TRA', 'Comp700_Segmented\\\\BF-C2DL-HSC\\\\BF-C2DL-HSC\\\\02_ST\\\\SEG', 'Comp700_Segmented\\\\BF-C2DL-HSC (1)\\\\BF-C2DL-HSC (1)\\\\01', 'Comp700_Segmented\\\\BF-C2DL-HSC (1)\\\\BF-C2DL-HSC (1)\\\\02']\n",
      "Number of folders: 96\n"
     ]
    }
   ],
   "source": [
    "print( desired_locations[0:10] )\n",
    "print(\"Number of folders:\", len( desired_locations ) ) "
   ]
  },
  {
   "cell_type": "markdown",
   "metadata": {},
   "source": [
    "Okay! We now have a variable containing the folder locations! We can now define some functions to validate all directories exist"
   ]
  },
  {
   "cell_type": "code",
   "execution_count": 12,
   "metadata": {},
   "outputs": [],
   "source": [
    "# create directory for work we create\n",
    "def tryMakeDirectory(current_directory, destination_directory):\n",
    "    try:\n",
    "        # join comes from os.path\n",
    "        mkdir( join(current_directory, destination_directory) )\n",
    "    except FileExistsError:\n",
    "        # print(\"Folder already exists!\")\n",
    "        pass\n",
    "    except:\n",
    "        print(\"Unknown Error Encountered...\")\n",
    "###\n",
    "\n",
    "def createBulkDirectories(current_directory, array):\n",
    "    sub_folders = []\n",
    "    path = \"..\\\\..\\\\\"\n",
    "\n",
    "    for item in array:\n",
    "        sub_folders = item.split(\"\\\\\")\n",
    "        # print(sub_folders)\n",
    "\n",
    "        for folder in sub_folders:\n",
    "            path += folder\n",
    "            tryMakeDirectory(current_directory, path)\n",
    "            path += \"\\\\\"\n",
    "        \n",
    "        # reset\n",
    "        path = \"..\\\\..\\\\\"\n",
    "\n",
    "    print(\"Done!\")\n",
    "###"
   ]
  },
  {
   "cell_type": "code",
   "execution_count": 13,
   "metadata": {},
   "outputs": [
    {
     "name": "stdout",
     "output_type": "stream",
     "text": [
      "Done!\n"
     ]
    }
   ],
   "source": [
    "createBulkDirectories(current_directory, desired_locations)"
   ]
  },
  {
   "cell_type": "markdown",
   "metadata": {},
   "source": [
    "# Data-Set Segmentation\n",
    "\n",
    "This section of the notebook focusses on processing the entire data-set, following the methods found in 005 for 1103_10 and 1103_11"
   ]
  },
  {
   "cell_type": "markdown",
   "metadata": {},
   "source": [
    "We are going to take advantage of the Thresholding found with OpenCV - specifically the mask value of 17. Let's create a function to do that processing for us:"
   ]
  },
  {
   "cell_type": "code",
   "execution_count": 14,
   "metadata": {},
   "outputs": [],
   "source": [
    "def opencvThresh(img, value=17):\n",
    "    ret, thresh = cv2.threshold(img, 0, 255, value)\n",
    "\n",
    "    return thresh\n",
    "###\n",
    "\n",
    "# used to make the segmented values visible, by saving via matplotlib\n",
    "def getImage(filePath):\n",
    "    img = plt.imread(filePath) \n",
    "    plt.imsave(\"temp.jpg\", img, cmap=\"gray\") # desired colourmap for us\n",
    "    img = cv2.imread( \"temp.jpg\", cv2.IMREAD_GRAYSCALE)\n",
    "\n",
    "    return img\n",
    "###\n",
    "\n",
    "# process choice influences processOne or processTwo\n",
    "def bulkProcess(current_directory, original_dataset, location_array):\n",
    "    kernel = np.ones((3,3), np.uint8)\n",
    "    counter = 0\n",
    "    valid_folders = [\"01\", \"02\", \"SEG\", \"TRA\"]\n",
    "\n",
    "    name = \"segmented_\"\n",
    "\n",
    "    # go to the original_dataset\n",
    "    path = walk(current_directory + \"\\\\\" + original_dataset)\n",
    "    \n",
    "    print(\"Starting...\")\n",
    "\n",
    "    for root, dirs, files in path:\n",
    "        # skip zipped files\n",
    "        if (\"OriginalZipped\" in root):\n",
    "            continue\n",
    "        # end loop because locations exhausted\n",
    "        elif (counter >= len(location_array)):\n",
    "            break\n",
    "\n",
    "        # print(root)\n",
    "\n",
    "        for item in files:\n",
    "            # manual info, simply copy as is\n",
    "            if (\"man_\" in item):\n",
    "                # print(\"Counter:\", counter)\n",
    "                img_path = current_directory + \"\\\\..\\\\..\\\\\" + location_array[counter] + \"\\\\\" +  item\n",
    "                # print(img_path)\n",
    "\n",
    "                # handle text files\n",
    "                if (\".txt\" in item):\n",
    "                    copyfile(root + \"\\\\\" + item, img_path)\n",
    "                else:\n",
    "                    # print(\"EISH\")\n",
    "                    img = getImage(root + \"\\\\\" + item)\n",
    "                    cv2.imwrite(img_path, img)\n",
    "\n",
    "                \n",
    "            # stop working, zipped files found\n",
    "            elif (\".zip\" in item):\n",
    "                break\n",
    "            else:\n",
    "                # print(\"Nope\")\n",
    "\n",
    "                img = getImage(root + \"\\\\\" + item)\n",
    "\n",
    "                processed_pic = opencvThresh(img)\n",
    "\n",
    "                # print(\"Counter:\", counter)\n",
    "                img_path = current_directory + \"\\\\..\\\\..\\\\\" + location_array[counter] + \"\\\\\" + name + item\n",
    "                # print(img_path)\n",
    "\n",
    "                cv2.imwrite(img_path, processed_pic)\n",
    "\n",
    "            # remove later\n",
    "            # break\n",
    "        \n",
    "        # update counter\n",
    "        if (basename(root) in valid_folders):\n",
    "            counter += 1\n",
    "    \n",
    "    # remove at end\n",
    "    if (exists(\"temp.jpg\")):\n",
    "        remove(\"temp.jpg\")\n",
    "    \n",
    "    print(\"Finished...\")\n",
    "### \n",
    "\n",
    "def getFileQuantities(path):\n",
    "    count = 0\n",
    "    size_array = []\n",
    "    valid_folders = [\"01\", \"02\", \"SEG\", \"TRA\"]\n",
    "\n",
    "    for root, dirs, files in walk(path):\n",
    "        count = 0\n",
    "\n",
    "        for file in files:\n",
    "            count += 1\n",
    "        \n",
    "        if (basename(root) in valid_folders):\n",
    "            size_array.append(count)\n",
    "    \n",
    "    return size_array\n",
    "###"
   ]
  },
  {
   "cell_type": "code",
   "execution_count": 15,
   "metadata": {},
   "outputs": [],
   "source": [
    "original_sizes = getFileQuantities( current_directory + \"\\\\\" + \"..\\\\..\\\\Comp700_DataSets\" )"
   ]
  },
  {
   "cell_type": "code",
   "execution_count": 16,
   "metadata": {},
   "outputs": [
    {
     "data": {
      "text/plain": [
       "[1764,\n",
       " 49,\n",
       " 1765,\n",
       " 1764,\n",
       " 1764,\n",
       " 8,\n",
       " 1765,\n",
       " 1764,\n",
       " 1763,\n",
       " 1763,\n",
       " 1375,\n",
       " 50,\n",
       " 1377,\n",
       " 1376,\n",
       " 1376,\n",
       " 50,\n",
       " 1377,\n",
       " 1376,\n",
       " 1376,\n",
       " 1375,\n",
       " 84,\n",
       " 9,\n",
       " 85,\n",
       " 84,\n",
       " 84,\n",
       " 9,\n",
       " 85,\n",
       " 84,\n",
       " 115,\n",
       " 115,\n",
       " 30,\n",
       " 8,\n",
       " 31,\n",
       " 30,\n",
       " 5,\n",
       " 31,\n",
       " 30,\n",
       " 30,\n",
       " 48,\n",
       " 18,\n",
       " 49,\n",
       " 48,\n",
       " 48,\n",
       " 33,\n",
       " 49,\n",
       " 48,\n",
       " 48,\n",
       " 48,\n",
       " 92,\n",
       " 30,\n",
       " 93,\n",
       " 92,\n",
       " 92,\n",
       " 20,\n",
       " 93,\n",
       " 92,\n",
       " 92,\n",
       " 92,\n",
       " 65,\n",
       " 65,\n",
       " 66,\n",
       " 150,\n",
       " 150,\n",
       " 151,\n",
       " 110,\n",
       " 138,\n",
       " 92,\n",
       " 28,\n",
       " 93,\n",
       " 92,\n",
       " 92,\n",
       " 8,\n",
       " 93,\n",
       " 92,\n",
       " 92,\n",
       " 92,\n",
       " 115,\n",
       " 15,\n",
       " 116,\n",
       " 115,\n",
       " 115,\n",
       " 19,\n",
       " 116,\n",
       " 115,\n",
       " 115,\n",
       " 115,\n",
       " 300,\n",
       " 2,\n",
       " 301,\n",
       " 300,\n",
       " 300,\n",
       " 2,\n",
       " 301,\n",
       " 300,\n",
       " 300,\n",
       " 300]"
      ]
     },
     "execution_count": 16,
     "metadata": {},
     "output_type": "execute_result"
    }
   ],
   "source": [
    "original_sizes"
   ]
  },
  {
   "cell_type": "code",
   "execution_count": 17,
   "metadata": {},
   "outputs": [
    {
     "data": {
      "text/plain": [
       "[0,\n",
       " 0,\n",
       " 0,\n",
       " 0,\n",
       " 0,\n",
       " 0,\n",
       " 0,\n",
       " 0,\n",
       " 0,\n",
       " 0,\n",
       " 0,\n",
       " 0,\n",
       " 0,\n",
       " 0,\n",
       " 0,\n",
       " 0,\n",
       " 0,\n",
       " 0,\n",
       " 0,\n",
       " 0,\n",
       " 0,\n",
       " 0,\n",
       " 0,\n",
       " 0,\n",
       " 0,\n",
       " 0,\n",
       " 0,\n",
       " 0,\n",
       " 0,\n",
       " 0,\n",
       " 0,\n",
       " 0,\n",
       " 0,\n",
       " 0,\n",
       " 0,\n",
       " 0,\n",
       " 0,\n",
       " 0,\n",
       " 0,\n",
       " 0,\n",
       " 0,\n",
       " 0,\n",
       " 0,\n",
       " 0,\n",
       " 0,\n",
       " 0,\n",
       " 0,\n",
       " 0,\n",
       " 0,\n",
       " 0,\n",
       " 0,\n",
       " 0,\n",
       " 0,\n",
       " 0,\n",
       " 0,\n",
       " 0,\n",
       " 0,\n",
       " 0,\n",
       " 0,\n",
       " 0,\n",
       " 0,\n",
       " 0,\n",
       " 0,\n",
       " 0,\n",
       " 0,\n",
       " 0,\n",
       " 0,\n",
       " 0,\n",
       " 0,\n",
       " 0,\n",
       " 0,\n",
       " 0,\n",
       " 0,\n",
       " 0,\n",
       " 0,\n",
       " 0,\n",
       " 0,\n",
       " 0,\n",
       " 0,\n",
       " 0,\n",
       " 0,\n",
       " 0,\n",
       " 0,\n",
       " 0,\n",
       " 0,\n",
       " 0,\n",
       " 0,\n",
       " 0,\n",
       " 0,\n",
       " 0,\n",
       " 0,\n",
       " 0,\n",
       " 0,\n",
       " 0,\n",
       " 0,\n",
       " 0]"
      ]
     },
     "execution_count": 17,
     "metadata": {},
     "output_type": "execute_result"
    }
   ],
   "source": [
    "segmented_sizes = getFileQuantities( current_directory + \"\\\\\" + \"..\\\\..\\\\Comp700_Segmented\" )\n",
    "\n",
    "segmented_sizes"
   ]
  },
  {
   "cell_type": "code",
   "execution_count": 20,
   "metadata": {},
   "outputs": [
    {
     "name": "stdout",
     "output_type": "stream",
     "text": [
      "False\n",
      "\n",
      "Generating now\n",
      "Starting...\n",
      "Finished...\n"
     ]
    }
   ],
   "source": [
    "if (original_sizes == segmented_sizes):\n",
    "    print(\"True\")\n",
    "else:\n",
    "    print(\"False\")\n",
    "    print(\"\\nGenerating now\")\n",
    "    bulkProcess(current_directory, \"..\\\\..\\\\Comp700_Processed_DataSets_1\", desired_locations)"
   ]
  }
 ],
 "metadata": {
  "kernelspec": {
   "display_name": "Python 3.10.4 ('tracking_cells')",
   "language": "python",
   "name": "python3"
  },
  "language_info": {
   "codemirror_mode": {
    "name": "ipython",
    "version": 3
   },
   "file_extension": ".py",
   "mimetype": "text/x-python",
   "name": "python",
   "nbconvert_exporter": "python",
   "pygments_lexer": "ipython3",
   "version": "3.10.4"
  },
  "orig_nbformat": 4,
  "vscode": {
   "interpreter": {
    "hash": "5172ef57c372de0319e4db714a6087489ed069afeb66a66d936cee1d14e4331d"
   }
  }
 },
 "nbformat": 4,
 "nbformat_minor": 2
}
