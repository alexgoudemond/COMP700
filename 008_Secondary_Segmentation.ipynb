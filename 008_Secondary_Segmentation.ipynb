{
 "cells": [
  {
   "cell_type": "markdown",
   "metadata": {},
   "source": [
    "# Secondary Segmentation\n",
    "\n",
    "This notebook will explore the next set of segmenation options"
   ]
  },
  {
   "cell_type": "markdown",
   "metadata": {},
   "source": [
    "## Author: Alexander Goudemond, Student Number: 219030365"
   ]
  },
  {
   "cell_type": "markdown",
   "metadata": {},
   "source": [
    "# Imports\n"
   ]
  },
  {
   "cell_type": "code",
   "execution_count": null,
   "metadata": {},
   "outputs": [],
   "source": []
  },
  {
   "cell_type": "markdown",
   "metadata": {},
   "source": [
    "# Previous Summary"
   ]
  },
  {
   "cell_type": "markdown",
   "metadata": {},
   "source": [
    "Unfortunately, the Watershed segmentation is not working, most likely because of the thresholding of the images. This may be compounded by our pre-processing step - however, because the pre-processing was a simple morphological operation the results are almost the same\n",
    "\n",
    "The best image is shown below:"
   ]
  },
  {
   "cell_type": "markdown",
   "metadata": {},
   "source": [
    "What makes that image successful is the OpenCV use of a threshold mask value 17. Other values were explored, however this is the best result! It also assists with removal of noise to a high degree, though the 3rd data-set is broken into many smaller pieces\n",
    "\n",
    "Below are 3 pictures:\n",
    "\n",
    "- OpenCV Thresholding using the value of 17\n",
    "- The negative of the above image\n",
    "- OpenCV Thresholding using the value of 19"
   ]
  },
  {
   "cell_type": "markdown",
   "metadata": {},
   "source": [
    "![Watershed of 17](007_Initial_Segmentation\\\\023_Watershed_AdaptedThresholdingTwo_A17_1_pics.jpg \"Watershed of 17\")\n",
    "\n",
    "![Negative of OpenCV Threshold value 17](007_Initial_Segmentation\\\\019_Watershed_AdaptedThresholding7_1_pics.jpg \"Negative of OpenCV Threshold value 17\")\n",
    "\n",
    "![Watershed of 19](007_Initial_Segmentation\\\\023_Watershed_AdaptedThresholdingTwo_A19_1_pics.jpg \"Watershed of 19\")"
   ]
  },
  {
   "cell_type": "markdown",
   "metadata": {},
   "source": [
    "Notice how the threshold of 19 contains more texture than 17, but 17 is a more binary representation!"
   ]
  }
 ],
 "metadata": {
  "kernelspec": {
   "display_name": "Python 3.10.4 ('tracking_cells')",
   "language": "python",
   "name": "python3"
  },
  "language_info": {
   "name": "python",
   "version": "3.10.4"
  },
  "orig_nbformat": 4,
  "vscode": {
   "interpreter": {
    "hash": "5172ef57c372de0319e4db714a6087489ed069afeb66a66d936cee1d14e4331d"
   }
  }
 },
 "nbformat": 4,
 "nbformat_minor": 2
}
