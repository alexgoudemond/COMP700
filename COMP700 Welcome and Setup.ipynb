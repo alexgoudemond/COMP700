{
 "cells": [
  {
   "cell_type": "markdown",
   "id": "b4380527",
   "metadata": {},
   "source": [
    "# Welcome! "
   ]
  },
  {
   "cell_type": "markdown",
   "id": "13c77c5c",
   "metadata": {},
   "source": [
    "This notebook introduces and explains the purpose of the COMP700 project for Alexander Goudemond\n"
   ]
  },
  {
   "cell_type": "markdown",
   "id": "58d0edaa",
   "metadata": {},
   "source": [
    "## Author: Alexander Goudemond\n",
    "\n",
    "## Student Number: 219030365\n",
    "\n",
    "## Supervisor: Prof. Viriri"
   ]
  },
  {
   "cell_type": "markdown",
   "id": "53352fe9",
   "metadata": {},
   "source": [
    "The honours project that the author focusses on is titled:"
   ]
  },
  {
   "cell_type": "markdown",
   "id": "017f839a",
   "metadata": {},
   "source": [
    "### Deep Learning for Tracking Moving Cells in Time-Lapse Video Sequences"
   ]
  },
  {
   "cell_type": "markdown",
   "id": "ba955f18",
   "metadata": {},
   "source": [
    "The purpose of the project is to explore deep learning techniques for the segmentation and tracking of biological cells. The data-sets used are taken from the Cell Tracking Challenge Website: http://celltrackingchallenge.net/2d-datasets/\n",
    "\n",
    "A proposal was created by the author and will be available in the same directory of this Jupyter Notebook"
   ]
  },
  {
   "cell_type": "markdown",
   "id": "95016522",
   "metadata": {},
   "source": [
    "In order to conduct the programming aspects of the project, the author did the following setup:\n",
    "\n",
    "- A loan laptop was acquired from UKZN with a powerful GPU (NVIDA 1660 Ti)\n",
    "\n",
    "- On that loan laptop, the author setup (in this order): Python, Nvidia Driver (Current), Visual Studio Community (C++ dependencies), CUDA Toolkit v11.6, CuDNN v11.7, Anaconda\n",
    "\n",
    "- Inside Anaconda, an environment called *tracking_cells* was created, which had tensorflow, jupyter notebook, matplotlib, opencv loaded onto it\n",
    "\n",
    "- The IDE of choice is Visual Studio Code, with several extensions used for easy use: 3x Jupyter extensions, Prettier Code Formatter, 2x Python extensions, vscode-icons, vscode-pdf and TIF-Preview"
   ]
  },
  {
   "cell_type": "markdown",
   "id": "01704637",
   "metadata": {},
   "source": [
    "A breakdown of the timeline of the project and the goals set by the author can be found in the Proposal document. For now, several other Jupyter Notebooks will be created and used to learn information about the data-sets"
   ]
  },
  {
   "cell_type": "markdown",
   "id": "b09c2b76",
   "metadata": {},
   "source": [
    "Thank you!"
   ]
  }
 ],
 "metadata": {
  "kernelspec": {
   "display_name": "Python 3 (ipykernel)",
   "language": "python",
   "name": "python3"
  },
  "language_info": {
   "codemirror_mode": {
    "name": "ipython",
    "version": 3
   },
   "file_extension": ".py",
   "mimetype": "text/x-python",
   "name": "python",
   "nbconvert_exporter": "python",
   "pygments_lexer": "ipython3",
   "version": "3.10.4"
  }
 },
 "nbformat": 4,
 "nbformat_minor": 5
}
