{
 "cells": [
  {
   "cell_type": "markdown",
   "metadata": {},
   "source": [
    "# Data-Set Secondary Pre-Processing\n",
    "\n",
    "This notebook further focusses on processing steps we can use to enhance the images in our data-sets"
   ]
  },
  {
   "cell_type": "markdown",
   "id": "49a3d2bf",
   "metadata": {},
   "source": [
    "## Author: Alexander Goudemond, Student Number: 219030365"
   ]
  },
  {
   "cell_type": "markdown",
   "metadata": {},
   "source": [
    "# Imports"
   ]
  },
  {
   "cell_type": "code",
   "execution_count": null,
   "metadata": {},
   "outputs": [],
   "source": []
  },
  {
   "cell_type": "markdown",
   "metadata": {},
   "source": [
    "# Previous Results:\n",
    "\n",
    "This section of the notebook summarises the notes from 004"
   ]
  },
  {
   "cell_type": "markdown",
   "metadata": {},
   "source": [
    "1105, 1106, 1201 and 1202 are useful to show the user the hidden information in the images. \n",
    "\n",
    "0801 and 0802 are super close at being useful, however, they posses undesirable features\n",
    "\n",
    "0805, 1101 and 1103 may be useful for segmentation\n",
    "\n",
    "It may be worth attempting to try introduce an AND gate between 2 images, in order to extract only the common information. Though this may preserve noise... "
   ]
  },
  {
   "cell_type": "markdown",
   "metadata": {},
   "source": [
    "To get an idea of what we are hoping to achieve, let us open 2 images from one of our reference materials: Magnussen (PhD Thesis)\n",
    "\n",
    "The images will be available in the COMP700 Proposal, if not provided by the author\n",
    "\n"
   ]
  },
  {
   "cell_type": "markdown",
   "metadata": {},
   "source": [
    "Segmentation Example\n"
   ]
  },
  {
   "cell_type": "markdown",
   "metadata": {},
   "source": [
    "![Segmentation Example](Magnusson_Segmentation_Sample.png \"Segmentation Example\")"
   ]
  },
  {
   "cell_type": "markdown",
   "metadata": {},
   "source": [
    "Tracking Example Below:"
   ]
  },
  {
   "cell_type": "markdown",
   "metadata": {},
   "source": [
    "As we can see above, in the segmentation example from Magnussen, (b) is a desirable Processing step before segmentation"
   ]
  },
  {
   "cell_type": "markdown",
   "metadata": {},
   "source": [
    "At the moment, we have the following desirable affects:\n"
   ]
  },
  {
   "cell_type": "markdown",
   "metadata": {},
   "source": [
    "Hidden Info present (1105, 1106, 1201, 1202):\n"
   ]
  },
  {
   "cell_type": "markdown",
   "metadata": {},
   "source": [
    "![Hidden Info 1](004_InitialPreProcessing\\1105_ErodedNegativeImages.png \"Hidden Info 1\")\n",
    "\n",
    "![Hidden Info 2](004_InitialPreProcessing\\1106_OpenedNegativeImages.png \"Hidden Info 2\")\n",
    "\n",
    "![Hidden Info 3](004_InitialPreProcessing\\1201_HistEq_ErodedAtEnd_BlurAdaptiveThresholdMean.png \"Hidden Info 3\")\n",
    "\n",
    "![Hidden Info 4](004_InitialPreProcessing\\1202_HistE1_OpenedAtStart_BlurAdaptiveThresholdMean.png \"Hidden Info 4\")"
   ]
  },
  {
   "cell_type": "markdown",
   "metadata": {},
   "source": [
    "Almost pleasant processed Images (0801, 0802):"
   ]
  },
  {
   "cell_type": "markdown",
   "metadata": {},
   "source": [
    "![Almost Pleasant Processed Images 1](004_InitialPreProcessing\\0801_OtsuThreshold.png \"Almost Pleasant Processed Images 1\")\n",
    "\n",
    "![Almost Pleasant Processed Images 2](004_InitialPreProcessing\\0802_Blur_OtsuThreshold.png \"Almost Pleasant Processed Images 2\")\n"
   ]
  },
  {
   "cell_type": "markdown",
   "metadata": {},
   "source": [
    "Potential Useful Images (0805, 1101, 1103):\n"
   ]
  },
  {
   "cell_type": "markdown",
   "metadata": {},
   "source": [
    "![Potentially Useful Images 1](004_InitialPreProcessing\\0805_BlurAdaptiveThresholdMean.png \"Potentially Useful Images 1\")\n",
    "\n",
    "![Potentially Useful Images 2](004_InitialPreProcessing\\1101_ErodedImages.png \"Potentially Useful Images 2\")\n",
    "\n",
    "![Potentially Useful Images 3](004_InitialPreProcessing\\1103_OpenedImages.png \"Potentially Useful Images 3\")"
   ]
  },
  {
   "cell_type": "markdown",
   "metadata": {},
   "source": [
    "As we can see from the 3 pictures above, The processing we are attempting to produce is not of the same quality of Magnussen YET"
   ]
  },
  {
   "cell_type": "markdown",
   "metadata": {},
   "source": [
    "One of the challenges we are facing is to find a processing step that assists all 10 data-sets, because if we only focussed on 1 data-set we would be able to pick a specific processing option... \n",
    "\n",
    "For ease of reference, bottom left of the images above corresponds to Magnussen:"
   ]
  },
  {
   "cell_type": "markdown",
   "metadata": {},
   "source": [
    "![Segmentation Example](Magnusson_Segmentation_Sample.png \"Segmentation Example\")"
   ]
  },
  {
   "cell_type": "markdown",
   "metadata": {},
   "source": [
    "From the above images, we can visualy see that 1103 is the closest to improving things, but it is rather dark. We need to try use this technique to brighten the overall image, so that we can move forward. The other techniques tried in 004 may be unhelpful as they either help a few data-sets and damage others, or introduce noise...\n",
    "\n",
    "We will carefully explore the combinations here, though"
   ]
  },
  {
   "cell_type": "markdown",
   "metadata": {},
   "source": [
    "Infact, upon closer inspection, 1105 and 1106 may be useful after all... Let us carefully compare and contrast 1101, 1103, 1105, 1106"
   ]
  },
  {
   "cell_type": "markdown",
   "metadata": {},
   "source": [
    "![1101](004_InitialPreProcessing\\1101_ErodedImages.png \"1101\")\n",
    "\n",
    "![1103](004_InitialPreProcessing\\1103_OpenedImages.png \"1103\")"
   ]
  },
  {
   "cell_type": "markdown",
   "metadata": {},
   "source": [
    "![1105](004_InitialPreProcessing\\1105_ErodedNegativeImages.png \"1105\")\n",
    "\n",
    "![1106](004_InitialPreProcessing\\1106_OpenedNegativeImages.png \"1106\")"
   ]
  },
  {
   "cell_type": "markdown",
   "metadata": {},
   "source": [
    "Between 1101 and 1103, 1103 is better!\n",
    "\n",
    "Between 1105 and 1106, 1106 appears better!\n",
    "\n",
    "Let ys carefully consider 1103 vs 1106"
   ]
  },
  {
   "cell_type": "markdown",
   "metadata": {},
   "source": [
    "![1103](004_InitialPreProcessing\\1103_OpenedImages.png \"1103\")\n",
    "\n",
    "![1106](004_InitialPreProcessing\\1106_OpenedNegativeImages.png \"1106\")"
   ]
  },
  {
   "cell_type": "markdown",
   "metadata": {},
   "source": [
    "Both 1103 and 1106 contain useful information! We should create videos from them, to cover whether the results are universally good. We are also interested in whether these formatting tools assist with the test cases\n",
    "\n",
    "Of course they are both good! One is an opened image, the other is the negative of it!\n",
    "\n",
    "So instead, let us create a video using the technique from 1106 as well as a video from 0805 to see if our results are helpful"
   ]
  },
  {
   "cell_type": "markdown",
   "metadata": {},
   "source": [
    "#  1106 and 0805 Videos\n",
    "\n",
    "This section of the notebook focusses on videos using the techniques present in 0805 and 1106, identified in the notebook 004"
   ]
  }
 ],
 "metadata": {
  "kernelspec": {
   "display_name": "Python 3.10.4 ('tracking_cells')",
   "language": "python",
   "name": "python3"
  },
  "language_info": {
   "codemirror_mode": {
    "name": "ipython",
    "version": 3
   },
   "file_extension": ".py",
   "mimetype": "text/x-python",
   "name": "python",
   "nbconvert_exporter": "python",
   "pygments_lexer": "ipython3",
   "version": "3.10.4"
  },
  "orig_nbformat": 4,
  "vscode": {
   "interpreter": {
    "hash": "5172ef57c372de0319e4db714a6087489ed069afeb66a66d936cee1d14e4331d"
   }
  }
 },
 "nbformat": 4,
 "nbformat_minor": 2
}
